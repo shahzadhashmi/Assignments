{
 "cells": [
  {
   "cell_type": "code",
   "execution_count": 11,
   "metadata": {},
   "outputs": [
    {
     "name": "stdout",
     "output_type": "stream",
     "text": [
      "Enter the number: 7\n",
      "Positive Number\n"
     ]
    }
   ],
   "source": [
    "#Q:1 Write code to check Wheather number is positive or not fron user\n",
    "var = int(input(\"Enter the number: \"))\n",
    "if var > 0:\n",
    "    print(\"Positive Number\")\n",
    "elif var == 0:\n",
    "    print(\"Positive Number\")\n",
    "else:\n",
    "    print(\"Negative Number\")"
   ]
  },
  {
   "cell_type": "code",
   "execution_count": 17,
   "metadata": {},
   "outputs": [
    {
     "name": "stdout",
     "output_type": "stream",
     "text": [
      "Enter the marks of Subject : \n",
      "Enter the Marks  of Math : 40\n",
      "Enter the Marks of Physics : 60\n",
      "Enter the Marks of Chemistry : 24\n",
      "Enter the Marks of Islamyiat : 80\n",
      "Enter the Marks of Pak Studies : 73\n",
      "Your grade is D  \n",
      "Total Marks 277\n",
      "Total Average 55.4\n"
     ]
    }
   ],
   "source": [
    "#Q:2 Take marks of 5 subjects from user and display the grade\n",
    "print(\"Enter the marks of Subject : \")\n",
    "Math = int(input(\"Enter the Marks  of Math : \"))\n",
    "Phy = int(input(\"Enter the Marks of Physics : \"))\n",
    "Chem = int(input(\"Enter the Marks of Chemistry : \"))\n",
    "Isl = int(input(\"Enter the Marks of Islamyiat : \"))\n",
    "Pak = int(input(\"Enter the Marks of Pak Studies : \"))\n",
    "\n",
    "Total_Marks = Math + Phy + Chem + Isl + Pak\n",
    "avg = (Math+Phy+Chem+Isl+Pak)/5\n",
    "\n",
    "if (avg < 50):\n",
    "    print(\"Your grade is F  \")\n",
    "if (avg >= 50 and avg <= 59):\n",
    "    print(\"Your grade is D  \")\n",
    "if (avg >= 60 and avg <= 69):\n",
    "    print(\"Your grade is C \")\n",
    "if (avg >= 70 and avg <= 79):\n",
    "    print(\"Your grade is B \")\n",
    "if (avg >= 80 and avg <= 89):\n",
    "    print(\"Your grade is A \")\n",
    "if (avg >= 90 and avg <= 100):\n",
    "    print(\"Your grade is A+ \")\n",
    "\n",
    "print(\"Total Marks\",Total_Marks)\n",
    "print(\"Total Average\", avg)"
   ]
  },
  {
   "cell_type": "code",
   "execution_count": 18,
   "metadata": {},
   "outputs": [
    {
     "name": "stdout",
     "output_type": "stream",
     "text": [
      "Enter The Number of a : 5\n",
      "Enter The Number of b : 9\n",
      "Quotient is : 0\n",
      "Remainder is : 5\n"
     ]
    }
   ],
   "source": [
    "# Q: 4 Print quotient and remainder \n",
    "a = int(input(\"Enter The Number of a : \"))\n",
    "b = int(input(\"Enter The Number of b : \"))\n",
    "Quotient = a//b\n",
    "Remainder = a%b\n",
    "print(\"Quotient is : \" + str(Quotient))\n",
    "print(\"Remainder is : \" + str(Remainder))"
   ]
  },
  {
   "cell_type": "code",
   "execution_count": 21,
   "metadata": {},
   "outputs": [
    {
     "name": "stdout",
     "output_type": "stream",
     "text": [
      "Satisfied Condition 1\n",
      "Satisfied Condition 5\n",
      "Satisfied Condition 7\n",
      "Satisfied Condition 11\n",
      "Satisfied Condition 13\n",
      "Satisfied Condition 17\n",
      "Satisfied Condition 19\n",
      "Satisfied Condition 23\n",
      "Satisfied Condition 25\n",
      "Satisfied Condition 29\n",
      "Satisfied Condition 31\n",
      "Satisfied Condition 35\n",
      "Satisfied Condition 37\n",
      "Satisfied Condition 41\n",
      "Satisfied Condition 43\n",
      "Satisfied Condition 47\n",
      "Satisfied Condition 49\n"
     ]
    }
   ],
   "source": [
    "# Q:4 display number that aren't divisible by 2 and 3\n",
    "for i in range(0, 51):\n",
    "    if (i % 2 !=0 and i % 3 !=0):\n",
    "        print(\"Satisfied Condition\",i)"
   ]
  },
  {
   "cell_type": "code",
   "execution_count": 24,
   "metadata": {},
   "outputs": [
    {
     "name": "stdout",
     "output_type": "stream",
     "text": [
      "Enter The Value of a : 4\n",
      "Enter The Value of b : 5\n",
      "5\n",
      "4\n"
     ]
    }
   ],
   "source": [
    "# Q : 5 Exchange the values of two variables without using temporary variable means third variable.\n",
    "a = int(input(\"Enter The Value of a : \"))\n",
    "b = int(input(\"Enter The Value of b : \"))\n",
    "\n",
    "a = a + b # 4 + 5 = 9 \n",
    "\n",
    "b = a - b # 9 - 5 = 4\n",
    "\n",
    "a = a - b # 9 - 4 = 5\n",
    " \n",
    "print(a)\n",
    "print(b)"
   ]
  },
  {
   "cell_type": "code",
   "execution_count": 26,
   "metadata": {},
   "outputs": [
    {
     "name": "stdout",
     "output_type": "stream",
     "text": [
      "Enter The Value of side a : 4\n",
      "Enter The Value of side b : 5\n",
      "Enter The Value of side c : 6\n",
      "The semi sides of a triangles are :  7.5\n",
      "The area of a traingle is :  9.921567416492215\n"
     ]
    }
   ],
   "source": [
    "#Q : 6 Area of a triangle\n",
    "a = float(input(\"Enter The Value of side a : \"))\n",
    "b = float(input(\"Enter The Value of side b : \"))\n",
    "c = float(input(\"Enter The Value of side c : \"))\n",
    "\n",
    "s = (a+b+c)/2\n",
    "\n",
    "A = (s*(s-a)*(s-b)*(s-c))**0.5\n",
    "\n",
    "print(\"The semi sides of a triangles are : \",s)\n",
    "print(\"The area of a traingle is : \", A)"
   ]
  },
  {
   "cell_type": "code",
   "execution_count": 4,
   "metadata": {},
   "outputs": [
    {
     "name": "stdout",
     "output_type": "stream",
     "text": [
      "Enter The value/elements of list from user  : 4\n",
      "Enter the values: 45\n",
      "Enter the values: 26\n",
      "Enter the values: 23\n",
      "Enter the values: 22\n",
      "List of Numbers:  [22, 23, 26, 45]\n",
      "[22, 26]\n",
      "[23, 45]\n",
      "Length of Even number in a list:  2\n",
      "[22, 26]\n",
      "Maximun even number in a list:  26\n",
      "Length of Odd number in a list:  2\n",
      "[23, 45]\n",
      "Maximun Odd number in a list:  45\n"
     ]
    }
   ],
   "source": [
    "# Q : 7\n",
    "list = []\n",
    "input_string = int(input(\"Enter The value/elements of list from user  : \"))\n",
    "for i in range(input_string):\n",
    "    var = int(input(\"Enter the values: \"))\n",
    "    list.append(var)\n",
    "    list.sort()\n",
    "print(\"List of Numbers: \",list)\n",
    "list1 = []\n",
    "list2 = []\n",
    "for i in list:\n",
    "    if (i % 2 == 0):\n",
    "        list1.append(i)\n",
    "    else:\n",
    "        list2.append(i)\n",
    "list1.sort()\n",
    "print(list1)\n",
    "list2.sort()\n",
    "print(list2)\n",
    "print(\"Length of Even number in a list: \", len(list1))\n",
    "print(list1)\n",
    "print(\"Maximun even number in a list: \", max(list1))\n",
    "\n",
    "print(\"Length of Odd number in a list: \", len(list2))\n",
    "print(list2)\n",
    "print(\"Maximun Odd number in a list: \", max(list2))\n",
    "\n",
    "#user_list = input_string.split()\n",
    "#user_list.sort()\n",
    "#print(\"User List is : \",user_list)\n"
   ]
  },
  {
   "cell_type": "code",
   "execution_count": 8,
   "metadata": {},
   "outputs": [
    {
     "name": "stdout",
     "output_type": "stream",
     "text": [
      "Enter the values from user: 4\n",
      "Enter The Values of list: 21\n",
      "Enter The Values of list: 45\n",
      "Enter The Values of list: 66\n",
      "Enter The Values of list: 58\n",
      "66\n",
      "[21, 45, 66, 58]\n"
     ]
    }
   ],
   "source": [
    "# Q: 8\n",
    "l1= []\n",
    "user_list = int(input(\"Enter the values from user: \"))\n",
    "for i in range(user_list):\n",
    "    var1 = int(input(\"Enter The Values of list: \"))\n",
    "    l1.append(var1)\n",
    "    l1.sort()\n",
    "print(l1[-2])\n",
    "print(l1)"
   ]
  },
  {
   "cell_type": "code",
   "execution_count": 2,
   "metadata": {},
   "outputs": [
    {
     "name": "stdout",
     "output_type": "stream",
     "text": [
      "Enter the values of list from user a: 4\n",
      "Enter the elements of list from user a: 14\n",
      "Enter the elements of list from user a: 25\n",
      "Enter the elements of list from user a: 36\n",
      "Enter the elements of list from user a: 58\n",
      "[14, 25, 36, 58]\n",
      "Enter the values of list from user b: 4\n",
      "Enter the elements from user b: 52\n",
      "Enter the elements from user b: 41\n",
      "Enter the elements from user b: 63\n",
      "Enter the elements from user b: 85\n",
      "[52, 41, 63, 85]\n",
      "Unoin of two lists:  [14, 25, 36, 58, 52, 41, 63, 85]\n"
     ]
    }
   ],
   "source": [
    "# Q: 9\n",
    "def Union(list1, list2):\n",
    "    final_list = list1 + list2\n",
    "    return final_list\n",
    "\n",
    "#list1 = [2,5,6,7,1,5]\n",
    "#list2 = [22,32,41,6,56]\n",
    "list1 = []\n",
    "user_a = int(input(\"Enter the values of list from user a: \"))\n",
    "for i in range(user_a):\n",
    "    ele = int(input(\"Enter the elements of list from user a: \"))\n",
    "    list1.append(ele)\n",
    "print(list1)\n",
    "list2 = []\n",
    "user_b = int(input(\"Enter the values of list from user b: \"))\n",
    "for i in range(user_b):\n",
    "    ele1 = int(input(\"Enter the elements from user b: \"))\n",
    "    list2.append(ele1)\n",
    "print(list2)\n",
    "print(\"Unoin of two lists: \", Union(list1,list2))"
   ]
  },
  {
   "cell_type": "code",
   "execution_count": null,
   "metadata": {},
   "outputs": [],
   "source": []
  },
  {
   "cell_type": "code",
   "execution_count": null,
   "metadata": {},
   "outputs": [],
   "source": []
  }
 ],
 "metadata": {
  "kernelspec": {
   "display_name": "Python 3",
   "language": "python",
   "name": "python3"
  },
  "language_info": {
   "codemirror_mode": {
    "name": "ipython",
    "version": 3
   },
   "file_extension": ".py",
   "mimetype": "text/x-python",
   "name": "python",
   "nbconvert_exporter": "python",
   "pygments_lexer": "ipython3",
   "version": "3.7.4"
  }
 },
 "nbformat": 4,
 "nbformat_minor": 2
}
