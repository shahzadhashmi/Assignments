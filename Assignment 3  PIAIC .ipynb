{
 "cells": [
  {
   "cell_type": "code",
   "execution_count": 8,
   "metadata": {},
   "outputs": [
    {
     "name": "stdout",
     "output_type": "stream",
     "text": [
      "Emter the key from user: 1\n",
      "Enter the values from user:  2\n",
      "Updated Dictionary =  {'1': '2'}\n"
     ]
    },
    {
     "data": {
      "text/plain": [
       "{'1': '2'}"
      ]
     },
     "execution_count": 8,
     "metadata": {},
     "output_type": "execute_result"
    }
   ],
   "source": [
    "# Q : 1 add key value pair to dictionary from user\n",
    "key = input(\"Emter the key from user: \")\n",
    "values = input(\"Enter the values from user:  \")\n",
    "\n",
    "dict = {}\n",
    "#dict[key] = values\n",
    "dict.update({key:values})\n",
    "\n",
    "print(\"Updated Dictionary = \", dict)\n"
   ]
  },
  {
   "cell_type": "code",
   "execution_count": 15,
   "metadata": {},
   "outputs": [
    {
     "name": "stdout",
     "output_type": "stream",
     "text": [
      "{'shahzad': 'Ahmad', 'Faizi': 'sagheer', 'Sunny': 'Haider', '1': '2', '3': '4'}\n"
     ]
    }
   ],
   "source": [
    "# Q:2  Concatenate two dictionaries into one\n",
    "\n",
    "d1 = {'shahzad':'Ahmad','Faizi':'sagheer','Sunny':'Haider'}\n",
    "d2 = {'1':'2','3':'4'}\n",
    "\n",
    "d1.update(d2)\n",
    "\n",
    "print(d1)\n"
   ]
  },
  {
   "cell_type": "code",
   "execution_count": 24,
   "metadata": {},
   "outputs": [
    {
     "name": "stdout",
     "output_type": "stream",
     "text": [
      "Enter the Key from user: shahzad\n",
      "Already Present: \n"
     ]
    }
   ],
   "source": [
    "# Q: 3 check if a given key exists in ha dictionary or not\n",
    "\n",
    "d1 = {'shahzad':'Ahmad','Faizi':'sagheer','Sunny':'Haider'}\n",
    "\n",
    "key = input(\"Enter the Key from user: \")\n",
    "\n",
    "if key in d1.keys():\n",
    "    #print(dictionary.keys())\n",
    "    print(\"Already Present: \")\n",
    "else:\n",
    "    print(\"Not Present: \")"
   ]
  },
  {
   "cell_type": "code",
   "execution_count": 38,
   "metadata": {},
   "outputs": [
    {
     "name": "stdout",
     "output_type": "stream",
     "text": [
      "Enter the number:  4\n",
      "{1: 1, 2: 16, 3: 81, 4: 256, 5: 625}\n"
     ]
    }
   ],
   "source": [
    "user_number = int(input(\"Enter the number:  \"))\n",
    "my_dict = {x : x**user_number for x in [1,2,3,4,5]}\n",
    "print(my_dict)"
   ]
  },
  {
   "cell_type": "code",
   "execution_count": 45,
   "metadata": {},
   "outputs": [
    {
     "name": "stdout",
     "output_type": "stream",
     "text": [
      "Enter the number: 4\n",
      "{1: 1, 2: 4, 3: 9, 4: 16}\n"
     ]
    }
   ],
   "source": [
    "# Q : 4 Python Program to Generate a Dictionary that Contains Numbers (between 1 and n) in the Form (x,x*x).\n",
    "\n",
    "n = int(input(\"Enter the number: \"))\n",
    "\n",
    "d = {}\n",
    "for x in range(1,n+1):\n",
    "    d[x] = x*x\n",
    "print(d)\n"
   ]
  },
  {
   "cell_type": "code",
   "execution_count": 42,
   "metadata": {},
   "outputs": [
    {
     "name": "stdout",
     "output_type": "stream",
     "text": [
      "The total sum is:  12\n"
     ]
    }
   ],
   "source": [
    "# Q : 5 Python Program to Sum All the Items in a Dictionary\n",
    "# sum the values\n",
    "d1 = {'shahzad':2,'Faizi':4,'Sunny':6}\n",
    "print(\"The total sum is: \",sum(d1.values()))"
   ]
  },
  {
   "cell_type": "code",
   "execution_count": 51,
   "metadata": {},
   "outputs": [
    {
     "name": "stdout",
     "output_type": "stream",
     "text": [
      "216\n"
     ]
    }
   ],
   "source": [
    "# Q: 6 Python Program to Multiply All the Items in a Dictionary\n",
    "d1 = {'shahzad':2,'Faizi':4,'Sunny':6}\n",
    "result = 1\n",
    "for key in d1:\n",
    "    result = result * d1[i]\n",
    "print(result)"
   ]
  },
  {
   "cell_type": "code",
   "execution_count": 54,
   "metadata": {},
   "outputs": [
    {
     "name": "stdout",
     "output_type": "stream",
     "text": [
      "Enter the key from user: shahzad\n",
      "If present then delete the key-value pair \n",
      "{'Faizi': 4, 'Sunny': 6}\n"
     ]
    }
   ],
   "source": [
    "#Q : 7 Python Program to Remove the Given Key from a Dictionary\n",
    "d1 = {'shahzad':2,'Faizi':4,'Sunny':6}\n",
    "\n",
    "key = input(\"Enter the key from user: \")\n",
    "\n",
    "if key in d1:\n",
    "    print(\"Present in dict then delete the key-value pair \")\n",
    "    del d1[key]\n",
    "    print(d1)\n",
    "else:\n",
    "    print(\"Not Preasent in a dictionary \")"
   ]
  },
  {
   "cell_type": "code",
   "execution_count": 1,
   "metadata": {},
   "outputs": [
    {
     "name": "stdout",
     "output_type": "stream",
     "text": [
      "Enter the Element for Dictionary: 3\n",
      "For Keys: \n",
      "Enter Elements: shahzi\n",
      "Enter Elements: faizi\n",
      "Enter Elements: sunny\n",
      "['shahzi', 'faizi', 'sunny']\n",
      "For Vlaues: \n",
      "Enter Elements:1\n",
      "Enter Elements:2\n",
      "Enter Elements:3\n",
      "['1', '2', '3']\n",
      "{'shahzi': '1', 'faizi': '2', 'sunny': '3'}\n"
     ]
    }
   ],
   "source": [
    "# Q: 8 Python Program to Map Two Lists into a Dictionary\n",
    "\n",
    "list1 = []\n",
    "list2 = []\n",
    "num = int(input(\"Enter the Element for Dictionary: \"))\n",
    "print(\"For Keys: \")\n",
    "for i in range(num):\n",
    "    key = input(\"Enter Elements: \")\n",
    "    list1.append(key)\n",
    "print(list1)\n",
    "print(\"For Vlaues: \")\n",
    "for i in range(num):\n",
    "    values = input(\"Enter Elements:\")\n",
    "    list2.append(values)\n",
    "print(list2)\n",
    "\n",
    "dictionary = dict(zip(list1, list2))\n",
    "print(dictionary)"
   ]
  },
  {
   "cell_type": "code",
   "execution_count": 10,
   "metadata": {},
   "outputs": [
    {
     "name": "stdout",
     "output_type": "stream",
     "text": [
      "Enter a string: my name is shahzad\n",
      "['my', 'name', 'is', 'shahzad']\n",
      "[1, 1, 1, 1]\n",
      "{'my': 1, 'name': 1, 'is': 1, 'shahzad': 1}\n"
     ]
    }
   ],
   "source": [
    "#Task 9\n",
    "#Python Program to Count the Frequency of Words Appearing in a String Using a Dictionary\n",
    "\n",
    "string = input(\"Enter a string: \")\n",
    "l1 = []\n",
    "\n",
    "l1 = string.split()\n",
    "print(l1)\n",
    "\n",
    "feqcount= [l1.count(i) for i in l1]# obj is the thing whose count is to be return that is (i)\n",
    "print(feqcount)\n",
    "\n",
    "zipping = dict(zip(l1,feqcount))\n",
    "print(zipping)\n",
    "\n"
   ]
  },
  {
   "cell_type": "code",
   "execution_count": 22,
   "metadata": {},
   "outputs": [
    {
     "name": "stdout",
     "output_type": "stream",
     "text": [
      "Enter a string: Hello world this is a test string sanfoundry\n",
      "H : ['Hello']\n",
      "w : ['world']\n",
      "t : ['test']\n",
      "i : ['is']\n",
      "a : ['a']\n",
      "s : ['sanfoundry']\n"
     ]
    }
   ],
   "source": [
    "#ython Program to Create a Dictionary with Key as First Character and Value as Words Starting with that\n",
    "#haracter\n",
    "string1 = input(\"Enter a string: \")\n",
    "d = {}\n",
    "l = string1.split()\n",
    "\n",
    "for i in l:\n",
    "    if(i[0] != d.keys()):\n",
    "        d[i[0]] = []\n",
    "        d[i[0]].append(i)\n",
    "    else:\n",
    "        if(i not in d[i[0]]):\n",
    "            d[i[0]].append(i)\n",
    "for k,v in d.items():\n",
    "    print(k,\":\",v)"
   ]
  }
 ],
 "metadata": {
  "kernelspec": {
   "display_name": "Python 3",
   "language": "python",
   "name": "python3"
  },
  "language_info": {
   "codemirror_mode": {
    "name": "ipython",
    "version": 3
   },
   "file_extension": ".py",
   "mimetype": "text/x-python",
   "name": "python",
   "nbconvert_exporter": "python",
   "pygments_lexer": "ipython3",
   "version": "3.7.4"
  }
 },
 "nbformat": 4,
 "nbformat_minor": 2
}
