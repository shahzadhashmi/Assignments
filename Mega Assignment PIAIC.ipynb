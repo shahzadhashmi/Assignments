{
 "cells": [
  {
   "cell_type": "code",
   "execution_count": 139,
   "metadata": {},
   "outputs": [
    {
     "name": "stdout",
     "output_type": "stream",
     "text": [
      "[4, 1, 1]\n",
      "[5, 9, 0]\n"
     ]
    }
   ],
   "source": [
    "# Q 19: \n",
    "x = [[4, 1, 1], [5, 9, 0]]\n",
    "#for i in __?__:\n",
    " #for j in __?__:\n",
    "    \n",
    "for i in range(1):\n",
    "    for j in x[:]:\n",
    "        print(j)"
   ]
  },
  {
   "cell_type": "code",
   "execution_count": 69,
   "metadata": {},
   "outputs": [
    {
     "name": "stdout",
     "output_type": "stream",
     "text": [
      "4\n",
      "1\n",
      "1\n",
      "5\n",
      "9\n",
      "0\n"
     ]
    }
   ],
   "source": [
    "# Q 19: \n",
    "x = [[4, 1, 1], [5, 9, 0]]\n",
    "#for i in __?__:\n",
    " #for j in __?__:\n",
    "    \n",
    "for i in range(0, 2):\n",
    "    for j in x[i]:\n",
    "        print(j)"
   ]
  },
  {
   "cell_type": "code",
   "execution_count": 80,
   "metadata": {},
   "outputs": [
    {
     "name": "stdout",
     "output_type": "stream",
     "text": [
      "4\t1\t1\t5\t9\t0\t"
     ]
    }
   ],
   "source": [
    "# Q 19: \n",
    "x = [[4, 1, 1], [5, 9, 0]]\n",
    "#for i in __?__:\n",
    " #for j in __?__:\n",
    "    \n",
    "for i in range(0, 2):\n",
    "    for j in x[i]:\n",
    "        print(j, end='\\t')"
   ]
  },
  {
   "cell_type": "code",
   "execution_count": 180,
   "metadata": {},
   "outputs": [
    {
     "name": "stdout",
     "output_type": "stream",
     "text": [
      "4\t1\t1\t\n",
      "\n",
      "5\t9\t0\t\n",
      "\n"
     ]
    }
   ],
   "source": [
    "# Q 19: \n",
    "x = [[4, 1, 1], [5, 9, 0]]\n",
    "#for i in __?__:\n",
    " #for j in __?__:\n",
    "    \n",
    "for i in range(0, 2):\n",
    "    for j in x[i]:\n",
    "        print(j, end = '\\t')\n",
    "    print('\\n')"
   ]
  },
  {
   "cell_type": "code",
   "execution_count": 190,
   "metadata": {},
   "outputs": [
    {
     "name": "stdout",
     "output_type": "stream",
     "text": [
      "4\t5\t\n",
      "\n",
      "1\t9\t\n",
      "\n",
      "1\t0\t\n",
      "\n"
     ]
    }
   ],
   "source": [
    "x = [[4, 1, 1], [5, 9, 0]]\n",
    "for i in range(3):\n",
    "    for j in range(2):\n",
    "        print(x[j][i], end = '\\t')\n",
    "    print('\\n')"
   ]
  },
  {
   "cell_type": "code",
   "execution_count": 193,
   "metadata": {},
   "outputs": [
    {
     "name": "stdout",
     "output_type": "stream",
     "text": [
      "Item0 -  10.62\n",
      "Item1 -  16.14\n",
      "Item2 -  6.45\n",
      "Item3 -  17.11\n"
     ]
    }
   ],
   "source": [
    "#Q 20:20.\n",
    "q = [10.62, 16.14, 6.45, 17.11]\n",
    "for j, z in enumerate (q) :\n",
    "    print( 'Item' + str( j ) + ' - ' , str ( z ))\n"
   ]
  },
  {
   "cell_type": "code",
   "execution_count": 198,
   "metadata": {},
   "outputs": [
    {
     "name": "stdout",
     "output_type": "stream",
     "text": [
      "{0: 1, 1: 1, 2: 1}\n"
     ]
    }
   ],
   "source": [
    "# 22\n",
    "D = dict()\n",
    "for i in range (3):\n",
    "    for j in range(2):\n",
    "        D[i] = j \n",
    "print(D)"
   ]
  },
  {
   "cell_type": "code",
   "execution_count": 201,
   "metadata": {},
   "outputs": [
    {
     "name": "stdout",
     "output_type": "stream",
     "text": [
      "11.333333333333334\n"
     ]
    }
   ],
   "source": [
    "#24. What will be output?\n",
    "def avg ( x , y , z = 50 ):\n",
    "    adding = x + y + z\n",
    "    avg_value = adding / 3\n",
    "    return avg_value\n",
    "y = avg ( x = 5 , y = 9 , z = 20 )\n",
    "print(y)\n"
   ]
  },
  {
   "cell_type": "code",
   "execution_count": 218,
   "metadata": {},
   "outputs": [
    {
     "name": "stdout",
     "output_type": "stream",
     "text": [
      "Name is: Ali\tMarks: 44.5\n"
     ]
    }
   ],
   "source": [
    "#25. What will be output? Describe it with reason and logic behind. Do multiple experiments with\n",
    "#arguments / parameters to remove error, if occurs.\n",
    "\n",
    "def avg (name, *opt_values):\n",
    "    avg_value = sum (opt_value) / len(opt_values)\n",
    "    print('Name is: ' + name +'\\t' 'Marks: ' + str(avg_value))\n",
    "avg('Ali', 5 , 9 , 20, 34, 87, 112) \n"
   ]
  },
  {
   "cell_type": "code",
   "execution_count": 220,
   "metadata": {},
   "outputs": [
    {
     "name": "stdout",
     "output_type": "stream",
     "text": [
      "The winner was Manchester\n",
      "The score was 1-0\n"
     ]
    }
   ],
   "source": [
    "#26. Final output is not required. Just take copy pencil, think and write the output of each line, write\n",
    "##observe the ouput.\n",
    "def display_result(winner, score, **other_info):#**other_info is a keyword and it will take all parameters that are not defined \n",
    "    print(\"The winner was \" + winner)\n",
    "    print(\"The score was \" + score)\n",
    "display_result(winner=\"Manchester\", score=\"1-0\", overtime =\"yes\", injuries=\"none\") "
   ]
  },
  {
   "cell_type": "code",
   "execution_count": 234,
   "metadata": {},
   "outputs": [
    {
     "ename": "SyntaxError",
     "evalue": "invalid syntax (<ipython-input-234-a8e43e22e00c>, line 3)",
     "output_type": "error",
     "traceback": [
      "\u001b[1;36m  File \u001b[1;32m\"<ipython-input-234-a8e43e22e00c>\"\u001b[1;36m, line \u001b[1;32m3\u001b[0m\n\u001b[1;33m    def display_result(**other_info, winner, score):\u001b[0m\n\u001b[1;37m                                          ^\u001b[0m\n\u001b[1;31mSyntaxError\u001b[0m\u001b[1;31m:\u001b[0m invalid syntax\n"
     ]
    }
   ],
   "source": [
    "#27. The position of parameters and arguments is re-arranged. Just think and find the logic behind\n",
    "#output or error.\n",
    "def display_result(winner, **other_info, score):\n",
    "    print(\"The winner was \" + winner)\n",
    "    print(\"The score was \" + score)\n",
    "display_result(winner=\"Manchester\", score = \"1-0\", overtime =\"yes\", injuries=\"none\" ) "
   ]
  },
  {
   "cell_type": "code",
   "execution_count": 1,
   "metadata": {},
   "outputs": [
    {
     "name": "stdout",
     "output_type": "stream",
     "text": [
      "000123\n"
     ]
    }
   ],
   "source": [
    "#28. What will be the output of the following Python expression if \n",
    "\n",
    "X=123\n",
    "print(\"%06d\"%X)\n"
   ]
  },
  {
   "cell_type": "code",
   "execution_count": 237,
   "metadata": {},
   "outputs": [
    {
     "name": "stdout",
     "output_type": "stream",
     "text": [
      "22.19\n"
     ]
    }
   ],
   "source": [
    "#29. What will be the output of the following Python expression if \n",
    "x=22.19\n",
    "print(\"%5.2f\"%x)"
   ]
  },
  {
   "cell_type": "code",
   "execution_count": 243,
   "metadata": {},
   "outputs": [
    {
     "data": {
      "text/plain": [
       "'1.234560, 1.234560, 01.23'"
      ]
     },
     "execution_count": 243,
     "metadata": {},
     "output_type": "execute_result"
    }
   ],
   "source": [
    "#30. What will be the output of the following Python code?\n",
    "'{0:f}, {1:2f}, {2:05.2f}'.format(1.23456, 1.23456, 1.23456)\n"
   ]
  },
  {
   "cell_type": "code",
   "execution_count": 7,
   "metadata": {},
   "outputs": [],
   "source": [
    "#31. Write down the output of each line after each iterations. Do multiple experiments to change values\n",
    "i = 1\n",
    "while False:#when its change to true then it will work and give us a infinite odd values\n",
    "    if i%2 == 0:\n",
    "        break\n",
    "print(i)\n",
    "i += 2"
   ]
  },
  {
   "cell_type": "code",
   "execution_count": 5,
   "metadata": {},
   "outputs": [
    {
     "name": "stdout",
     "output_type": "stream",
     "text": [
      "a a a a a a "
     ]
    }
   ],
   "source": [
    "#32. Write down the output of each line after each iterations. Do multiple experiments to change values\n",
    "x = \"abcdef\"\n",
    "i = \"a\"\n",
    "while i in x:\n",
    "    x = x[:-1]\n",
    "    print(i, end = \" \")\n",
    "#for every iteration it will add space in betweeen the string values till the condition false."
   ]
  },
  {
   "cell_type": "code",
   "execution_count": 10,
   "metadata": {},
   "outputs": [
    {
     "name": "stdout",
     "output_type": "stream",
     "text": [
      "d\n",
      "c\n",
      "b\n",
      "a\n"
     ]
    }
   ],
   "source": [
    "#33. Write down the output of each line after each iterations. Do multiple experiments to change values\n",
    "for i in  ''.join(reversed(list('abcd'))):\n",
    "    print (i)\n",
    "#it will reverse the values and join pick values one by  one "
   ]
  },
  {
   "cell_type": "code",
   "execution_count": 17,
   "metadata": {},
   "outputs": [
    {
     "name": "stdout",
     "output_type": "stream",
     "text": [
      "0\n",
      "1\n",
      "2\n",
      "3\n",
      "4\n",
      "Here\n"
     ]
    }
   ],
   "source": [
    "#34. Flow of the program. Write the output of each line after every iteration of ‘i’\n",
    "for i in range(10):# range is 0-9\n",
    "    if i == 5:# when value of i is equal to 5 then it will terminate the loop \n",
    "        break\n",
    "    else:\n",
    "        print(i)#it will print i  0-4\n",
    "print(\"Here\")\n"
   ]
  },
  {
   "cell_type": "code",
   "execution_count": 19,
   "metadata": {},
   "outputs": [
    {
     "name": "stdout",
     "output_type": "stream",
     "text": [
      "48\n"
     ]
    }
   ],
   "source": [
    "#35. What is the output? And understand the functionality of lambda function\n",
    "y = 6\n",
    "z = lambda x: x * y\n",
    "print (z(8))"
   ]
  },
  {
   "cell_type": "code",
   "execution_count": 49,
   "metadata": {},
   "outputs": [
    {
     "name": "stdout",
     "output_type": "stream",
     "text": [
      "0\n"
     ]
    }
   ],
   "source": [
    "#36. Write output and give proper logic of whatever the output comes.\n",
    "i=0\n",
    "def change(i):\n",
    "    i=i+1\n",
    "    return i\n",
    "change(i)\n",
    "print(i)\n",
    "#The output depends on the value of i when it change 0 to 1 output will be 1."
   ]
  },
  {
   "cell_type": "code",
   "execution_count": 60,
   "metadata": {},
   "outputs": [
    {
     "name": "stdout",
     "output_type": "stream",
     "text": [
      "<class 'tuple'>\n",
      "<class 'int'>\n",
      "(2, 3, 4)\n"
     ]
    }
   ],
   "source": [
    "#40. What will be output? Define this output clearly\n",
    "def change(one, *two):\n",
    "    print(type(two))\n",
    "    print(type(one))\n",
    "    print(two)\n",
    "change(1,2,3,4)\n",
    "#one is a positional argument and two is optional argumnet and its type is tuple"
   ]
  },
  {
   "cell_type": "code",
   "execution_count": 65,
   "metadata": {},
   "outputs": [
    {
     "name": "stdout",
     "output_type": "stream",
     "text": [
      "<class 'dict'>\n",
      "{'A': '1', 'B': '2'}\n",
      "letters\n"
     ]
    }
   ],
   "source": [
    "#41. What will be output? Define this output clearly\n",
    "def find(a, **b):\n",
    "    print(type(b))\n",
    "    print(b)\n",
    "find('letters',A='1',B='2')\n",
    "# ** means its a keyword.Keyword take value as key = value and its type is dict\n",
    "# a = 'letters'"
   ]
  },
  {
   "cell_type": "code",
   "execution_count": 67,
   "metadata": {},
   "outputs": [
    {
     "name": "stdout",
     "output_type": "stream",
     "text": [
      "[0]\n",
      "[0, 1]\n",
      "[0, 1, 2]\n"
     ]
    }
   ],
   "source": [
    "#42. Write output and define each line’s output for each iteration of ‘i’\n",
    "def foo(i, x=[]):\n",
    "    x.append(i)\n",
    "    return x\n",
    "for i in range(3):# \n",
    "    print(foo(i))\n"
   ]
  },
  {
   "cell_type": "code",
   "execution_count": 68,
   "metadata": {},
   "outputs": [
    {
     "data": {
      "text/plain": [
       "15"
      ]
     },
     "execution_count": 68,
     "metadata": {},
     "output_type": "execute_result"
    }
   ],
   "source": [
    "#43. Evaluate the following Python arithmetic expression: and write which segment will execute first?\n",
    "#(Brackets, Exponents, Multiplication, Addition / Subtraction, Left to right rule)\n",
    "(3*(1+2)**2-(2**2)*3)\n",
    "# (3*(3)**2-(4)*3)\n",
    "# (3*9-12)\n",
    "#(27-12)\n",
    "#15"
   ]
  },
  {
   "cell_type": "code",
   "execution_count": 158,
   "metadata": {},
   "outputs": [
    {
     "data": {
      "text/plain": [
       "10"
      ]
     },
     "execution_count": 158,
     "metadata": {},
     "output_type": "execute_result"
    }
   ],
   "source": [
    "import random\n",
    "\n",
    "random.randint(5, 11)# (start,stop) no gap \n",
    "\n",
    "random.randrange(5, 12, 1)#range take value from 5 to 11 with gap of 1   \n"
   ]
  },
  {
   "cell_type": "code",
   "execution_count": 160,
   "metadata": {},
   "outputs": [
    {
     "name": "stdout",
     "output_type": "stream",
     "text": [
      "Enter the marks: 70\n",
      "Your grade is B \n",
      "Your Marks is :  70\n"
     ]
    }
   ],
   "source": [
    "marks = int(input(\"Enter the marks: \"))\n",
    "\n",
    "if (marks < 50):\n",
    "    print(\"Your grade is F  \")\n",
    "if (marks >= 50 and marks <= 59):\n",
    "    print(\"Your grade is D  \")\n",
    "if (marks >= 60 and marks <= 69):\n",
    "    print(\"Your grade is C \")\n",
    "if (marks >= 70 and marks <= 79):\n",
    "    print(\"Your grade is B \")\n",
    "if (marks >= 80 and marks <= 89):\n",
    "    print(\"Your grade is A \")\n",
    "if (marks >= 90 and marks <= 100):\n",
    "    print(\"Your grade is A+ \")\n",
    "\n",
    "print(\"Your Marks is : \",marks)"
   ]
  },
  {
   "cell_type": "code",
   "execution_count": null,
   "metadata": {},
   "outputs": [],
   "source": []
  }
 ],
 "metadata": {
  "kernelspec": {
   "display_name": "Python 3",
   "language": "python",
   "name": "python3"
  },
  "language_info": {
   "codemirror_mode": {
    "name": "ipython",
    "version": 3
   },
   "file_extension": ".py",
   "mimetype": "text/x-python",
   "name": "python",
   "nbconvert_exporter": "python",
   "pygments_lexer": "ipython3",
   "version": "3.7.4"
  }
 },
 "nbformat": 4,
 "nbformat_minor": 2
}
